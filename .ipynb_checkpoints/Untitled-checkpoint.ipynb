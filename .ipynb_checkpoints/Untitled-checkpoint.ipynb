{
 "cells": [
  {
   "cell_type": "code",
   "execution_count": 18,
   "id": "7bfed337",
   "metadata": {},
   "outputs": [],
   "source": [
    "import pretty_midi\n",
    "\n",
    "import numpy as np"
   ]
  },
  {
   "cell_type": "code",
   "execution_count": 21,
   "id": "60deca1e",
   "metadata": {},
   "outputs": [],
   "source": [
    "fs = 100"
   ]
  },
  {
   "cell_type": "code",
   "execution_count": 22,
   "id": "0c880e0d",
   "metadata": {},
   "outputs": [],
   "source": [
    "midi_file_name = \"MIDI-Unprocessed_Chamber2_MID--AUDIO_09_R3_2018_wav--1.midi\"\n",
    "\n",
    "midi_pretty_format = pretty_midi.PrettyMIDI(midi_file_name)\n",
    "piano_midi = midi_pretty_format.instruments[0] # Get the piano channels\n",
    "piano_roll = piano_midi.get_piano_roll(fs=fs)"
   ]
  },
  {
   "cell_type": "code",
   "execution_count": 23,
   "id": "4da7ad20",
   "metadata": {},
   "outputs": [
    {
     "data": {
      "text/plain": [
       "(128, 58224)"
      ]
     },
     "execution_count": 23,
     "metadata": {},
     "output_type": "execute_result"
    }
   ],
   "source": [
    "piano_roll.shape"
   ]
  },
  {
   "cell_type": "code",
   "execution_count": 24,
   "id": "23d30659",
   "metadata": {},
   "outputs": [
    {
     "data": {
      "text/plain": [
       "Instrument(program=2, is_drum=False, name=\"\")"
      ]
     },
     "execution_count": 24,
     "metadata": {},
     "output_type": "execute_result"
    }
   ],
   "source": [
    "notes, frames = piano_roll.shape\n",
    "\n",
    "pm = pretty_midi.PrettyMIDI()\n",
    "instrument = pretty_midi.Instrument(program=2)\n",
    "\n",
    "\n",
    "instrument"
   ]
  },
  {
   "cell_type": "code",
   "execution_count": 27,
   "id": "717b00e8",
   "metadata": {},
   "outputs": [
    {
     "data": {
      "text/plain": [
       "(132, 58228)"
      ]
     },
     "execution_count": 27,
     "metadata": {},
     "output_type": "execute_result"
    }
   ],
   "source": [
    "\n",
    "\n",
    "np.pad(piano_roll, [(0, 0), (1, 1)], 'constant').shape"
   ]
  },
  {
   "cell_type": "code",
   "execution_count": null,
   "id": "08e00c5a",
   "metadata": {},
   "outputs": [],
   "source": []
  }
 ],
 "metadata": {
  "kernelspec": {
   "display_name": "Python 3 (ipykernel)",
   "language": "python",
   "name": "python3"
  },
  "language_info": {
   "codemirror_mode": {
    "name": "ipython",
    "version": 3
   },
   "file_extension": ".py",
   "mimetype": "text/x-python",
   "name": "python",
   "nbconvert_exporter": "python",
   "pygments_lexer": "ipython3",
   "version": "3.8.12"
  }
 },
 "nbformat": 4,
 "nbformat_minor": 5
}
