{
 "cells": [
  {
   "cell_type": "code",
   "execution_count": 18,
   "id": "2cfe624b",
   "metadata": {},
   "outputs": [],
   "source": [
    "import pretty_midi\n",
    "\n",
    "import numpy as np"
   ]
  },
  {
   "cell_type": "code",
   "execution_count": 21,
   "id": "cc9f07dd",
   "metadata": {},
   "outputs": [],
   "source": [
    "fs = 100"
   ]
  },
  {
   "cell_type": "code",
   "execution_count": 22,
   "id": "262d6c6c",
   "metadata": {},
   "outputs": [],
   "source": [
    "midi_file_name = \"MIDI-Unprocessed_Chamber2_MID--AUDIO_09_R3_2018_wav--1.midi\"\n",
    "\n",
    "midi_pretty_format = pretty_midi.PrettyMIDI(midi_file_name)\n",
    "piano_midi = midi_pretty_format.instruments[0] # Get the piano channels\n",
    "piano_roll = piano_midi.get_piano_roll(fs=fs)"
   ]
  },
  {
   "cell_type": "code",
   "execution_count": 23,
   "id": "e9d14829",
   "metadata": {},
   "outputs": [
    {
     "data": {
      "text/plain": [
       "(128, 58224)"
      ]
     },
     "execution_count": 23,
     "metadata": {},
     "output_type": "execute_result"
    }
   ],
   "source": [
    "piano_roll.shape"
   ]
  },
  {
   "cell_type": "code",
   "execution_count": 24,
   "id": "3e437c2c",
   "metadata": {},
   "outputs": [
    {
     "data": {
      "text/plain": [
       "Instrument(program=2, is_drum=False, name=\"\")"
      ]
     },
     "execution_count": 24,
     "metadata": {},
     "output_type": "execute_result"
    }
   ],
   "source": [
    "notes, frames = piano_roll.shape\n",
    "\n",
    "pm = pretty_midi.PrettyMIDI()\n",
    "\n",
    "instrument = pretty_midi.Instrument(program=0)\n",
    "\n",
    "instrument"
   ]
  },
  {
   "cell_type": "code",
   "execution_count": 39,
   "id": "85dd4391",
   "metadata": {},
   "outputs": [
    {
     "data": {
      "text/plain": [
       "(128, 58226)"
      ]
     },
     "execution_count": 39,
     "metadata": {},
     "output_type": "execute_result"
    }
   ],
   "source": [
    "np.pad(piano_roll, [(0, 0), (1, 1)], 'constant').shape"
   ]
  },
  {
   "cell_type": "code",
   "execution_count": 28,
   "id": "cc0eb8cc",
   "metadata": {},
   "outputs": [],
   "source": [
    "velocity_changes = np.nonzero(np.diff(piano_roll).T)"
   ]
  },
  {
   "cell_type": "code",
   "execution_count": 35,
   "id": "80635e9f",
   "metadata": {},
   "outputs": [
    {
     "data": {
      "text/plain": [
       "(9581,)"
      ]
     },
     "execution_count": 35,
     "metadata": {},
     "output_type": "execute_result"
    }
   ],
   "source": [
    "velocity_changes[0].shape"
   ]
  },
  {
   "cell_type": "code",
   "execution_count": null,
   "id": "e2c70281",
   "metadata": {},
   "outputs": [],
   "source": []
  }
 ],
 "metadata": {
  "kernelspec": {
   "display_name": "Python 3 (ipykernel)",
   "language": "python",
   "name": "python3"
  },
  "language_info": {
   "codemirror_mode": {
    "name": "ipython",
    "version": 3
   },
   "file_extension": ".py",
   "mimetype": "text/x-python",
   "name": "python",
   "nbconvert_exporter": "python",
   "pygments_lexer": "ipython3",
   "version": "3.8.12"
  }
 },
 "nbformat": 4,
 "nbformat_minor": 5
}
